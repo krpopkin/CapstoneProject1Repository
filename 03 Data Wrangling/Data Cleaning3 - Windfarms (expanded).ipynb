{
 "cells": [
  {
   "cell_type": "code",
   "execution_count": 1,
   "metadata": {},
   "outputs": [],
   "source": [
    "#This workbook uses the windfarm's geocodes to add a zip code column; along with additional columns,\n",
    "#such as population density and median income."
   ]
  },
  {
   "cell_type": "code",
   "execution_count": 2,
   "metadata": {},
   "outputs": [],
   "source": [
    "import warnings\n",
    "warnings.filterwarnings('ignore')"
   ]
  },
  {
   "cell_type": "code",
   "execution_count": 3,
   "metadata": {},
   "outputs": [],
   "source": [
    "#Imports\n",
    "import pandas as pd\n",
    "from uszipcode import SearchEngine"
   ]
  },
  {
   "cell_type": "code",
   "execution_count": 91,
   "metadata": {},
   "outputs": [
    {
     "name": "stdout",
     "output_type": "stream",
     "text": [
      "C:\\Users\\Ken\\Documents\\KenP\\Applications-DataScience\\SpringboardCourseWork\\CapstoneProject1Downloads\\WindfarmData\n"
     ]
    },
    {
     "data": {
      "text/html": [
       "<div>\n",
       "<style scoped>\n",
       "    .dataframe tbody tr th:only-of-type {\n",
       "        vertical-align: middle;\n",
       "    }\n",
       "\n",
       "    .dataframe tbody tr th {\n",
       "        vertical-align: top;\n",
       "    }\n",
       "\n",
       "    .dataframe thead th {\n",
       "        text-align: right;\n",
       "    }\n",
       "</style>\n",
       "<table border=\"1\" class=\"dataframe\">\n",
       "  <thead>\n",
       "    <tr style=\"text-align: right;\">\n",
       "      <th></th>\n",
       "      <th>Unnamed: 0</th>\n",
       "      <th>state</th>\n",
       "      <th>county</th>\n",
       "      <th>fips</th>\n",
       "      <th>project_name</th>\n",
       "      <th>project_op_year</th>\n",
       "      <th>windmills_count</th>\n",
       "      <th>capacity</th>\n",
       "      <th>longitude</th>\n",
       "      <th>latitude</th>\n",
       "    </tr>\n",
       "  </thead>\n",
       "  <tbody>\n",
       "    <tr>\n",
       "      <th>0</th>\n",
       "      <td>0</td>\n",
       "      <td>CA</td>\n",
       "      <td>Kern County</td>\n",
       "      <td>6029</td>\n",
       "      <td>251 Wind</td>\n",
       "      <td>1987</td>\n",
       "      <td>194</td>\n",
       "      <td>18.43</td>\n",
       "      <td>-118.360725</td>\n",
       "      <td>35.083778</td>\n",
       "    </tr>\n",
       "  </tbody>\n",
       "</table>\n",
       "</div>"
      ],
      "text/plain": [
       "   Unnamed: 0 state       county  fips project_name  project_op_year  \\\n",
       "0           0    CA  Kern County  6029     251 Wind             1987   \n",
       "\n",
       "   windmills_count  capacity   longitude   latitude  \n",
       "0              194     18.43 -118.360725  35.083778  "
      ]
     },
     "execution_count": 91,
     "metadata": {},
     "output_type": "execute_result"
    }
   ],
   "source": [
    "#Load the cleaned windfarm csv file to a dataframe\n",
    "%cd C:\\Users\\Ken\\Documents\\KenP\\Applications-DataScience\\SpringboardCourseWork\\CapstoneProject1Downloads\\WindfarmData\n",
    "\n",
    "df_wf = pd.read_csv('project1_windfarm_data.csv')\n",
    "\n",
    "df_wf.head(1)"
   ]
  },
  {
   "cell_type": "code",
   "execution_count": 92,
   "metadata": {},
   "outputs": [],
   "source": [
    "#Load the zip code database (https://pypi.org/project/uszipcode/)\n",
    "search = SearchEngine(simple_zipcode=False)"
   ]
  },
  {
   "cell_type": "code",
   "execution_count": 96,
   "metadata": {},
   "outputs": [],
   "source": [
    "#Add a zip code, population density, and median household income to each windfarm row based on the geocode\n",
    "df_wf_expanded = df_wf\n",
    "\n",
    "list_zipcode = []\n",
    "list_pop_density = []\n",
    "list_med_household_income = []\n",
    "#list_edu_level = []\n",
    "\n",
    "for i in df_wf_expanded.index.values:\n",
    "    wf_latitude = df_wf_expanded.loc[i,'latitude']\n",
    "    wf_longitude = df_wf_expanded.loc[i,'longitude']\n",
    "        \n",
    "    wf_zipcode_info = search.by_coordinates(wf_latitude, wf_longitude, radius=10, returns=1)\n",
    "    \n",
    "    #print(len(wf_zipcode_info))\n",
    "    if len(wf_zipcode_info) != 0:\n",
    "        for info in wf_zipcode_info:\n",
    "            list_zipcode.append(info.zipcode)\n",
    "            list_pop_density.append(info.population_density)\n",
    "            list_med_household_income.append(info.median_household_income)\n",
    "    else:\n",
    "        list_zipcode.append(99999)\n",
    "        list_pop_density.append(99999)\n",
    "        list_med_household_income.append(99999)\n",
    "    \n",
    "df_wf_expanded['zipcode'] = list_zipcode\n",
    "df_wf_expanded['pop_density'] = list_pop_density\n",
    "df_wf_expanded['med_household_income'] = list_med_household_income"
   ]
  },
  {
   "cell_type": "code",
   "execution_count": 95,
   "metadata": {},
   "outputs": [],
   "source": [
    "#Write the expanded windfarm dataframe out to a csv file\n",
    "out_csv = 'project1_windfarm_data_expanded.csv'\n",
    "\n",
    "df_wf_expanded.to_csv(out_csv)"
   ]
  },
  {
   "cell_type": "code",
   "execution_count": null,
   "metadata": {},
   "outputs": [],
   "source": []
  }
 ],
 "metadata": {
  "kernelspec": {
   "display_name": "Python 3",
   "language": "python",
   "name": "python3"
  },
  "language_info": {
   "codemirror_mode": {
    "name": "ipython",
    "version": 3
   },
   "file_extension": ".py",
   "mimetype": "text/x-python",
   "name": "python",
   "nbconvert_exporter": "python",
   "pygments_lexer": "ipython3",
   "version": "3.6.5"
  }
 },
 "nbformat": 4,
 "nbformat_minor": 2
}
